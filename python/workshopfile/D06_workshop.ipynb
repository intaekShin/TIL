{
 "cells": [
  {
   "cell_type": "code",
   "execution_count": 9,
   "metadata": {},
   "outputs": [],
   "source": [
    "def square_me(x):\n",
    "    a = x-1\n",
    "    b = x\n",
    "    while round(a, 10) != round(b, 10):\n",
    "        e = ((a + b) / 2) **2\n",
    "        f = e ** (1/2)\n",
    "        print(f)\n",
    "        if e > x:\n",
    "            b = f\n",
    "        elif x > e:\n",
    "            a = f\n",
    "\n",
    "    return round(a, 10), a, b\n",
    "\n",
    "def my_sqrt(n):\n",
    "    x, y = 1, n\n",
    "    result = 1\n",
    "    \n",
    "#    import math\n",
    "#    while not math.isclose(result**2, n) #가깝지 않으면 계속 실행하는 명령어.\n",
    "    \n",
    "    while abs(result**2 - n) > 0.000001: #근사값 처리.\n",
    "        result = (x+y) / 2\n",
    "        if result ** 2 < n:\n",
    "            x = result\n",
    "        else:\n",
    "            y = result\n",
    "    return result"
   ]
  },
  {
   "cell_type": "code",
   "execution_count": 10,
   "metadata": {},
   "outputs": [
    {
     "name": "stdout",
     "output_type": "stream",
     "text": [
      "1.5\n",
      "1.25\n",
      "1.375\n",
      "1.4375\n",
      "1.40625\n",
      "1.421875\n",
      "1.4140625\n",
      "1.41796875\n",
      "1.416015625\n",
      "1.4150390625\n",
      "1.41455078125\n",
      "1.414306640625\n",
      "1.4141845703125\n",
      "1.41424560546875\n",
      "1.414215087890625\n",
      "1.4141998291015625\n",
      "1.4142074584960938\n",
      "1.4142112731933594\n",
      "1.4142131805419922\n",
      "1.4142141342163086\n",
      "1.4142136573791504\n",
      "1.4142134189605713\n",
      "1.4142135381698608\n",
      "1.4142135977745056\n",
      "1.4142135679721832\n",
      "1.414213553071022\n",
      "1.4142135605216026\n",
      "1.414213564246893\n",
      "1.4142135623842478\n",
      "1.4142135614529252\n",
      "1.4142135619185865\n",
      "1.4142135621514171\n",
      "1.4142135622678325\n",
      "1.4142135623260401\n",
      "1.414213562355144\n",
      "square_me:\t (1.4142135624, 1.414213562355144, 1.4142135623842478)\n",
      "my_sqrt:\t 1.4142136573791504\n",
      "math.sqrt:\t 1.4142135623730951\n"
     ]
    }
   ],
   "source": [
    "import math\n",
    "print('square_me:\\t', square_me(2))\n",
    "print('my_sqrt:\\t', my_sqrt(2))\n",
    "print('math.sqrt:\\t', math.sqrt(2))"
   ]
  },
  {
   "cell_type": "code",
   "execution_count": null,
   "metadata": {},
   "outputs": [],
   "source": []
  },
  {
   "cell_type": "code",
   "execution_count": null,
   "metadata": {},
   "outputs": [],
   "source": []
  }
 ],
 "metadata": {
  "kernelspec": {
   "display_name": "Python 3",
   "language": "python",
   "name": "python3"
  },
  "language_info": {
   "codemirror_mode": {
    "name": "ipython",
    "version": 3
   },
   "file_extension": ".py",
   "mimetype": "text/x-python",
   "name": "python",
   "nbconvert_exporter": "python",
   "pygments_lexer": "ipython3",
   "version": "3.7.1"
  }
 },
 "nbformat": 4,
 "nbformat_minor": 2
}
