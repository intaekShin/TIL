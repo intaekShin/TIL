{
 "cells": [
  {
   "cell_type": "markdown",
   "metadata": {},
   "source": [
    "# 소대소대\n",
    "\n",
    "> 단어의 짝수번째 알파벳은 대문자로, 홀수번째 알파벳은 소문자로 바꾼 문자열을 return 하는 함수 `up_and_low`을 작성하세요.\n",
    "\n",
    "예시)\n",
    "```python\n",
    "up_and_low('applepie') #=> aPpLePiE\n",
    "up_and_low('spaceship') #=> sPaCeShIp\n",
    "```"
   ]
  },
  {
   "cell_type": "code",
   "execution_count": 152,
   "metadata": {},
   "outputs": [],
   "source": [
    "# 여기에 코드를 작성하세요.\n",
    "def up_and_low_s(word):\n",
    "    word_space = ' '.join(word)  # 문자열 사이에 공백 넣기\n",
    "    word_list = word_space.split() # 공백을 기준으로 문자 하나씩 떼어놓은 리스트 만들기\n",
    "    n = 0 #리스트의 순서가 몇번 째인지 알 수 있게 변수를 정의.\n",
    "    for alphbet in word_list: \n",
    "        if n % 2 == 0:\n",
    "            word_list[n] = word_list[n].lower()  #순서가 짝수이면 홀수번째 알파벳에 해당한다.\n",
    "        else:\n",
    "            word_list[n] = word_list[n].upper()\n",
    "        n += 1 #한 번 반복할 때마다 변수의 순서도 한 칸 올린다.\n",
    "    return ''.join(word_list)  #리스트를 문자열로 만드는 명령어 ☆★☆ 꼭 기억하기.\n",
    "\n",
    "#Answer\n",
    "def up_and_low(word):\n",
    "    result = ''\n",
    "    for i,c in enumerate(word): #index가 필요함.\n",
    "        if i % 2 == 1: # == 1 은 생략가능.\n",
    "            result += c.upper()\n",
    "        else:\n",
    "            result += c.lower()\n",
    "    return result\n",
    "\n",
    "#comprehension\n",
    "def up_and_low_comp(word):\n",
    "    result = [c.upper() if i % 2 else c.lower() for i, c in enumerate(word)]\n",
    "    return ''.join(result)\n",
    "    \n"
   ]
  },
  {
   "cell_type": "code",
   "execution_count": 153,
   "metadata": {},
   "outputs": [
    {
     "name": "stdout",
     "output_type": "stream",
     "text": [
      "aPpLePiE\n",
      "sPaCeShIp\n"
     ]
    }
   ],
   "source": [
    "# 해당 코드를 통해 올바른 결과가 나오는지 확인하세요.\n",
    "print(up_and_low_comp('applepie'))\n",
    "print(up_and_low('spaceship'))"
   ]
  },
  {
   "cell_type": "markdown",
   "metadata": {},
   "source": [
    "# 숫자 패턴\n",
    "\n",
    "> 원하는 행까지 아래의 패턴을 생성하는 함수 `pattern`를 작성하세요. 만약 인자가 0이나 음의 정수인 경우 \"\" 즉, 빈 문자열로 반환하세요. 짝수가 인수로 전달되면 패턴은 통과된 짝수보다 작은 최대 홀수까지 계속되어야 합니다.\n",
    "\n",
    "예시)\n",
    "\n",
    "```python\n",
    "pattern(9)\n",
    "\n",
    "1\n",
    "333\n",
    "55555\n",
    "7777777\n",
    "999999999\n",
    "\n",
    "pattern(6)\n",
    "\n",
    "1\n",
    "333\n",
    "55555\n",
    "```\n",
    "\n",
    "주의)\n",
    "\n",
    "- 패턴에 공백은 없습니다.\n",
    "- 함수 내부에서 `print()`를 사용하는 것이 아니라, 하나의 문자열을 `return`하여서 출력하여야 합니다."
   ]
  },
  {
   "cell_type": "code",
   "execution_count": 140,
   "metadata": {},
   "outputs": [],
   "source": [
    "# 여기에 코드를 작성하세요.\n",
    "\"\"\"\n",
    "막히는 부분 1. 반복하여 숫자를 자기숫자만큼 출력하는 것.\n",
    "            2. 출력한 숫자와 개행 이스케이프 코드를 한 문자열로 합치는 것.\n",
    "            3. 전체적으로 합치는 것. 문자열끼리 합. 리스트로 푸는 건가?\n",
    "\"\"\"\n",
    "def pattern_me(n):\n",
    "    k = []\n",
    "    for h in range(1,n+1):\n",
    "        g = 1\n",
    "        if h % 2 != 0:\n",
    "            while g <= h:\n",
    "                k.append(str(h))\n",
    "                g += 1\n",
    "            k.append('\\n')\n",
    "    return \"\".join(k)\n",
    "\n",
    "def pattern(n):\n",
    "    result = ''\n",
    "    for x in range(1,n+1):\n",
    "        if x % 2:\n",
    "            result += str(x) * x + '\\n' #마지막줄에도 개행문자가 생기는 차이점이 있음.\n",
    "    return result\n",
    "\n",
    "#comprehension\n",
    "def pattern_comp(n):\n",
    "    r = [str(x) * x for x in range(1,n+1) if x % 2]\n",
    "    return '\\n'.join(r)"
   ]
  },
  {
   "cell_type": "code",
   "execution_count": 154,
   "metadata": {},
   "outputs": [
    {
     "name": "stdout",
     "output_type": "stream",
     "text": [
      "1\n",
      "333\n",
      "55555\n",
      "7777777\n",
      "999999999\n",
      "\n",
      "1\n",
      "333\n",
      "55555\n",
      "\n"
     ]
    }
   ],
   "source": [
    "# 해당 코드를 통해 올바른 결과가 나오는지 확인하세요.\n",
    "print(pattern(9))\n",
    "print(pattern(6))"
   ]
  },
  {
   "cell_type": "markdown",
   "metadata": {},
   "source": [
    "# 무엇이 중복일까\n",
    "\n",
    "> 중복된 요소만 뽑아서 출력하는 `duplicated` 함수를 작성하시오.\n",
    "\n",
    "예시)\n",
    "\n",
    "```python\n",
    "duplicated(['a', 'b', 'c', 'b', 'd', 'm', 'n', 'n', 'b']) #=> ['b', 'n']\n",
    "```"
   ]
  },
  {
   "cell_type": "code",
   "execution_count": 150,
   "metadata": {},
   "outputs": [],
   "source": [
    "# 여기에 코드를 작성하세요.\n",
    "def duplicated_me(some_list):\n",
    "    empty = []\n",
    "    for alpha in some_list:\n",
    "        if some_list.count(alpha) >= 2:\n",
    "            empty.append(alpha)\n",
    "            while some_list.count(alpha) != 0: #해당 문자가 원 리스트에서 안보일때 까지.\n",
    "                some_list.remove(alpha)\n",
    "    return empty        #완벽하지 않은 코드이다. 수정이 필요함!\n",
    "            \n",
    "def duplicated(some_list):\n",
    "    result =[]\n",
    "    for c in some_list:\n",
    "        if some_list.count(c) > 1:\n",
    "            if c not in result:   #☆★☆★ 해당 문자가 결과값에 안보인다면!\n",
    "                #set자료형을 사용하면 중복값이 들어가지 못하기 때문에 유용하다.\n",
    "                result.append(c)\n",
    "    return result # list(set(result))\n",
    "\n",
    "#comprehension\n",
    "def duplicated_comp(some_list):\n",
    "    return list({c for c in some_list if some_list.count(c)}) #중괄호를 넣은 것은 set comprehension을 의미한다. 순서를 보장하지 못한다."
   ]
  },
  {
   "cell_type": "code",
   "execution_count": 151,
   "metadata": {},
   "outputs": [
    {
     "name": "stdout",
     "output_type": "stream",
     "text": [
      "['b', 'n']\n"
     ]
    }
   ],
   "source": [
    "# 해당 코드를 통해 올바른 결과가 나오는지 확인하세요.\n",
    "print(duplicated(['a', 'b', 'c', 'b', 'd', 'm', 'n', 'n', 'b']))"
   ]
  },
  {
   "cell_type": "code",
   "execution_count": null,
   "metadata": {},
   "outputs": [],
   "source": []
  }
 ],
 "metadata": {
  "kernelspec": {
   "display_name": "Python 3",
   "language": "python",
   "name": "python3"
  },
  "language_info": {
   "codemirror_mode": {
    "name": "ipython",
    "version": 3
   },
   "file_extension": ".py",
   "mimetype": "text/x-python",
   "name": "python",
   "nbconvert_exporter": "python",
   "pygments_lexer": "ipython3",
   "version": "3.7.1"
  },
  "toc": {
   "base_numbering": 1,
   "nav_menu": {},
   "number_sections": true,
   "sideBar": true,
   "skip_h1_title": false,
   "title_cell": "Table of Contents",
   "title_sidebar": "Contents",
   "toc_cell": false,
   "toc_position": {},
   "toc_section_display": true,
   "toc_window_display": false
  }
 },
 "nbformat": 4,
 "nbformat_minor": 2
}
