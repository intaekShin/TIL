{
 "cells": [
  {
   "cell_type": "markdown",
   "metadata": {},
   "source": [
    "# 가상화폐 시세 판단하기"
   ]
  },
  {
   "cell_type": "markdown",
   "metadata": {},
   "source": [
    "> 최고가와 최저가의 차이를 변동폭으로 정의할 때 (시가 + 변동폭)이 최고가 보다 높을 경우 \"상승장\", 그렇지 않은 경우 \"하락장\" 문자열을 출력하라.\n",
    "\n",
    "|Key Name        |     Description|\n",
    "|---|---|\n",
    "|opeing_price    |최근 24시간 내 시작 거래금액|\n",
    "|closing_price   |최근 24시간 내 마지막 거래금액|\n",
    "|min_price       |최근 24시간 내 최저 거래금액|\n",
    "|max_price       |최근 24시간 내 최고 거래금액|"
   ]
  },
  {
   "cell_type": "code",
   "execution_count": 6,
   "metadata": {},
   "outputs": [
    {
     "name": "stdout",
     "output_type": "stream",
     "text": [
      "{'opening_price': '3811000', 'closing_price': '3779000', 'min_price': '3758000', 'max_price': '3849000', 'average_price': '3792109.6598', 'units_traded': '3593.57176308', 'volume_1day': '3593.57176308', 'volume_7day': '21651.11050805', 'buy_price': '3777000', 'sell_price': '3780000', '24H_fluctate': '-32000', '24H_fluctate_rate': '-0.83', 'date': '1548979869865'}\n"
     ]
    }
   ],
   "source": [
    "import requests\n",
    "btc = requests.get('https://api.bithumb.com/public/ticker/btc').json()['data']\n",
    "print(btc)"
   ]
  },
  {
   "cell_type": "code",
   "execution_count": 8,
   "metadata": {},
   "outputs": [
    {
     "name": "stdout",
     "output_type": "stream",
     "text": [
      "상승장\n"
     ]
    }
   ],
   "source": [
    "# 아래에 코드를 작성하세요.\n",
    "result = int(btc['opening_price']) + int(btc['max_price']) - int(btc['min_price'])\n",
    "if result > int(btc['max_price']):\n",
    "    print(\"상승장\")\n",
    "else:\n",
    "    print(\"하락장\")"
   ]
  },
  {
   "cell_type": "markdown",
   "metadata": {},
   "source": [
    "## 모든 가상화폐 시세 판단하기\n",
    "\n",
    "\n",
    "> currrency dictionary에 담겨있는 모든 가상화폐 거래내역을 바탕으로 출력하라.\n",
    ">\n",
    "> 예외 처리에 유의하세요.\n",
    "\n",
    "\n",
    "\n",
    "```\n",
    "예시 출력)\n",
    "BTC 상승장\n",
    "ETH 상승장\n",
    "DASH 상승장\n",
    "LTC 하락장\n",
    "ETC 하락장\n",
    "XRP 상승장\n",
    "BCH 상승장\n",
    "...\n",
    "```\n"
   ]
  },
  {
   "cell_type": "code",
   "execution_count": 9,
   "metadata": {},
   "outputs": [
    {
     "name": "stdout",
     "output_type": "stream",
     "text": [
      "{'BTC': {'opening_price': '3813000', 'closing_price': '3781000', 'min_price': '3758000', 'max_price': '3849000', 'average_price': '3792088.5331', 'units_traded': '3593.26416308', 'volume_1day': '3593.26416308', 'volume_7day': '21651.11050805', 'buy_price': '3777000', 'sell_price': '3781000', '24H_fluctate': '-32000', '24H_fluctate_rate': '-0.83'}, 'ETH': {'opening_price': '120000', 'closing_price': '116900', 'min_price': '116000', 'max_price': '122000', 'average_price': '118732.487', 'units_traded': '69538.92916309', 'volume_1day': '69538.92916309', 'volume_7day': '484833.295352023129219128', 'buy_price': '116900', 'sell_price': '117000', '24H_fluctate': '-3100', '24H_fluctate_rate': '-2.58'}, 'DASH': {'opening_price': '75300', 'closing_price': '73700', 'min_price': '73700', 'max_price': '76300', 'average_price': '74536.166', 'units_traded': '5289006.6446732', 'volume_1day': '5289006.6446732', 'volume_7day': '38691918.43266115', 'buy_price': '73800', 'sell_price': '74100', '24H_fluctate': '-1600', '24H_fluctate_rate': '-2.12'}, 'LTC': {'opening_price': '35020', 'closing_price': '34680', 'min_price': '34100', 'max_price': '35700', 'average_price': '34818.175', 'units_traded': '8445.68080602', 'volume_1day': '8445.68080602', 'volume_7day': '57600.82664185', 'buy_price': '34590', 'sell_price': '34690', '24H_fluctate': '-340', '24H_fluctate_rate': '-0.97'}, 'ETC': {'opening_price': '4411', 'closing_price': '4330', 'min_price': '4275', 'max_price': '4461', 'average_price': '4343.566', 'units_traded': '32843.03136541', 'volume_1day': '32843.03136541', 'volume_7day': '276869.965394855795423919', 'buy_price': '4321', 'sell_price': '4331', '24H_fluctate': '-81', '24H_fluctate_rate': '-1.83'}, 'XRP': {'opening_price': '357', 'closing_price': '341', 'min_price': '335', 'max_price': '372', 'average_price': '351.457', 'units_traded': '117621282.76686253', 'volume_1day': '117621282.76686253', 'volume_7day': '379219643.22434238', 'buy_price': '340', 'sell_price': '341', '24H_fluctate': '-16', '24H_fluctate_rate': '-4.48'}, 'BCH': {'opening_price': '129700', 'closing_price': '125100', 'min_price': '123800', 'max_price': '132900', 'average_price': '127725.0397', 'units_traded': '20102.82676769', 'volume_1day': '20102.82676769', 'volume_7day': '153133.24185118', 'buy_price': '124700', 'sell_price': '125000', '24H_fluctate': '-4600', '24H_fluctate_rate': '-3.54'}, 'XMR': {'opening_price': '48450', 'closing_price': '47850', 'min_price': '47200', 'max_price': '48880', 'average_price': '48501.0419', 'units_traded': '3095671.3211618', 'volume_1day': '3095671.3211618', 'volume_7day': '40901976.009263532385', 'buy_price': '47500', 'sell_price': '47840', '24H_fluctate': '-600', '24H_fluctate_rate': '-1.23'}, 'ZEC': {'opening_price': '54750', 'closing_price': '53650', 'min_price': '53450', 'max_price': '55100', 'average_price': '53822.1863', 'units_traded': '11657805.21647322', 'volume_1day': '11657805.21647322', 'volume_7day': '57449643.66771458', 'buy_price': '53550', 'sell_price': '53650', '24H_fluctate': '-1100', '24H_fluctate_rate': '-2.00'}, 'QTUM': {'opening_price': '2079', 'closing_price': '2022', 'min_price': '1997', 'max_price': '2116', 'average_price': '2048.6406', 'units_traded': '224775.19170249', 'volume_1day': '224775.19170249', 'volume_7day': '1218730.62164171', 'buy_price': '2018', 'sell_price': '2022', '24H_fluctate': '-57', '24H_fluctate_rate': '-2.74'}, 'BTG': {'opening_price': '11240', 'closing_price': '10880', 'min_price': '10660', 'max_price': '11540', 'average_price': '10875.5493', 'units_traded': '19375179.53141888', 'volume_1day': '19375179.53141888', 'volume_7day': '139966507.38184186', 'buy_price': '10810', 'sell_price': '10890', '24H_fluctate': '-360', '24H_fluctate_rate': '-3.20'}, 'EOS': {'opening_price': '2563', 'closing_price': '2533', 'min_price': '2509', 'max_price': '2605', 'average_price': '2547.9844', 'units_traded': '1720591.49325304', 'volume_1day': '1720591.49325304', 'volume_7day': '10225816.73692574', 'buy_price': '2530', 'sell_price': '2534', '24H_fluctate': '-30', '24H_fluctate_rate': '-1.17'}, 'ICX': {'opening_price': '225', 'closing_price': '206', 'min_price': '203', 'max_price': '229', 'average_price': '214.4946', 'units_traded': '632593.42200631', 'volume_1day': '632593.42200631', 'volume_7day': '3205300.10608242440718195', 'buy_price': '205', 'sell_price': '208', '24H_fluctate': '-19', '24H_fluctate_rate': '-8.44'}, 'VET': {'opening_price': '4.4', 'closing_price': '4.27', 'min_price': '4.16', 'max_price': '4.53', 'average_price': '4.2948', 'units_traded': '102927628.2552655', 'volume_1day': '102927628.2552655', 'volume_7day': '652039328.258295254652152058', 'buy_price': '4.27', 'sell_price': '4.3', '24H_fluctate': '-0.13', '24H_fluctate_rate': '-2.95'}, 'TRX': {'opening_price': '29.9', 'closing_price': '27.7', 'min_price': '27.5', 'max_price': '30.1', 'average_price': '28.8964', 'units_traded': '295665805.03244957', 'volume_1day': '295665805.03244957', 'volume_7day': '6008713836.63908461', 'buy_price': '27.7', 'sell_price': '27.8', '24H_fluctate': '-2.2', '24H_fluctate_rate': '-7.35'}, 'ELF': {'opening_price': '116', 'closing_price': '110', 'min_price': '107', 'max_price': '127', 'average_price': '115.3797', 'units_traded': '4827000.91358915', 'volume_1day': '4827000.91358915', 'volume_7day': '15620254.115358263130057837', 'buy_price': '109', 'sell_price': '110', '24H_fluctate': '-6', '24H_fluctate_rate': '-5.17'}, 'MITH': {'opening_price': '44.6', 'closing_price': '40.8', 'min_price': '40', 'max_price': '45.9', 'average_price': '42.0839', 'units_traded': '20592170.73375894', 'volume_1day': '20592170.73375894', 'volume_7day': '70410180.239981266426562215', 'buy_price': '40.8', 'sell_price': '41.1', '24H_fluctate': '-3.8', '24H_fluctate_rate': '-8.52'}, 'MCO': {'opening_price': '2260', 'closing_price': '2185', 'min_price': '2131', 'max_price': '2303', 'average_price': '2203.2645', 'units_traded': '13388.82812278', 'volume_1day': '13388.82812278', 'volume_7day': '92166.40263524', 'buy_price': '2143', 'sell_price': '2185', '24H_fluctate': '-75', '24H_fluctate_rate': '-3.31'}, 'OMG': {'opening_price': '1250', 'closing_price': '1195', 'min_price': '1180', 'max_price': '1284', 'average_price': '1219.4165', 'units_traded': '291256.34517192', 'volume_1day': '291256.34517192', 'volume_7day': '328235322.62323680882000545', 'buy_price': '1195', 'sell_price': '1198', '24H_fluctate': '-55', '24H_fluctate_rate': '-4.40'}, 'KNC': {'opening_price': '132', 'closing_price': '126', 'min_price': '125', 'max_price': '136', 'average_price': '130.6802', 'units_traded': '951526.1733', 'volume_1day': '951526.1733', 'volume_7day': '5175233.216856883172412225', 'buy_price': '127', 'sell_price': '129', '24H_fluctate': '-6', '24H_fluctate_rate': '-4.54'}, 'GNT': {'opening_price': '63.4', 'closing_price': '61.9', 'min_price': '61.1', 'max_price': '64.2', 'average_price': '62.8282', 'units_traded': '1192607.79743962', 'volume_1day': '1192607.79743962', 'volume_7day': '7549907.635354807141627443', 'buy_price': '61.6', 'sell_price': '61.9', '24H_fluctate': '-1.5', '24H_fluctate_rate': '-2.36'}, 'ZIL': {'opening_price': '22.3', 'closing_price': '20.4', 'min_price': '19.9', 'max_price': '22.4', 'average_price': '21.0313', 'units_traded': '92483895.22212214', 'volume_1day': '92483895.22212214', 'volume_7day': '496324076.382290668406', 'buy_price': '20.3', 'sell_price': '20.4', '24H_fluctate': '-1.9', '24H_fluctate_rate': '-8.52'}, 'ETHOS': {'opening_price': '164', 'closing_price': '157', 'min_price': '152', 'max_price': '167', 'average_price': '159.4638', 'units_traded': '3202958.50714612', 'volume_1day': '3202958.50714612', 'volume_7day': '26954373.69347382', 'buy_price': '154', 'sell_price': '156', '24H_fluctate': '-7', '24H_fluctate_rate': '-4.26'}, 'PAY': {'opening_price': '286', 'closing_price': '277', 'min_price': '270', 'max_price': '291', 'average_price': '280.7249', 'units_traded': '2385206.27806796', 'volume_1day': '2385206.27806796', 'volume_7day': '36019891.009431042648492981', 'buy_price': '277', 'sell_price': '278', '24H_fluctate': '-9', '24H_fluctate_rate': '-3.14'}, 'WAX': {'opening_price': '36.6', 'closing_price': '35', 'min_price': '34.6', 'max_price': '37.3', 'average_price': '35.9641', 'units_traded': '2055260.88281253', 'volume_1day': '2055260.88281253', 'volume_7day': '17923949.25777187', 'buy_price': '34.6', 'sell_price': '35', '24H_fluctate': '-1.6', '24H_fluctate_rate': '-4.37'}, 'POWR': {'opening_price': '91.8', 'closing_price': '84.8', 'min_price': '84', 'max_price': '92.2', 'average_price': '89.0892', 'units_traded': '1942141.6566', 'volume_1day': '1942141.6566', 'volume_7day': '23957982.64087315', 'buy_price': '84.8', 'sell_price': '85.7', '24H_fluctate': '-7', '24H_fluctate_rate': '-7.62'}, 'LRC': {'opening_price': '65', 'closing_price': '60.4', 'min_price': '58.9', 'max_price': '65.9', 'average_price': '61.9796', 'units_traded': '18897044.87737985', 'volume_1day': '18897044.87737985', 'volume_7day': '184960649.577370291426354712', 'buy_price': '60.3', 'sell_price': '60.4', '24H_fluctate': '-4.6', '24H_fluctate_rate': '-7.07'}, 'GTO': {'opening_price': '27.6', 'closing_price': '26.3', 'min_price': '26', 'max_price': '28.1', 'average_price': '26.8783', 'units_traded': '3158883.37755573', 'volume_1day': '3158883.37755573', 'volume_7day': '42828091.35688923', 'buy_price': '26.3', 'sell_price': '26.4', '24H_fluctate': '-1.3', '24H_fluctate_rate': '-4.71'}, 'STEEM': {'opening_price': '325', 'closing_price': '308', 'min_price': '305', 'max_price': '328', 'average_price': '314.6707', 'units_traded': '1083972.35811654', 'volume_1day': '1083972.35811654', 'volume_7day': '10646411.72087159', 'buy_price': '307', 'sell_price': '308', '24H_fluctate': '-17', '24H_fluctate_rate': '-5.23'}, 'STRAT': {'opening_price': '926', 'closing_price': '834', 'min_price': '831', 'max_price': '926', 'average_price': '871.0202', 'units_traded': '208746.08812704', 'volume_1day': '208746.08812704', 'volume_7day': '1070375.58605839', 'buy_price': '835', 'sell_price': '846', '24H_fluctate': '-92', '24H_fluctate_rate': '-9.93'}, 'ZRX': {'opening_price': '285', 'closing_price': '275', 'min_price': '271', 'max_price': '288', 'average_price': '277.8619', 'units_traded': '195839.3908', 'volume_1day': '195839.3908', 'volume_7day': '2574450.218232478482444743', 'buy_price': '275', 'sell_price': '276', '24H_fluctate': '-10', '24H_fluctate_rate': '-3.50'}, 'REP': {'opening_price': '13190', 'closing_price': '13560', 'min_price': '12520', 'max_price': '14200', 'average_price': '13222.8023', 'units_traded': '154898.02154203', 'volume_1day': '154898.02154203', 'volume_7day': '1116572.888042524812508716', 'buy_price': '13550', 'sell_price': '13560', '24H_fluctate': '370', '24H_fluctate_rate': '2.80'}, 'AE': {'opening_price': '414', 'closing_price': '406', 'min_price': '392', 'max_price': '419', 'average_price': '403.5525', 'units_traded': '426120.5639', 'volume_1day': '426120.5639', 'volume_7day': '3991314.231934405444542448', 'buy_price': '400', 'sell_price': '406', '24H_fluctate': '-8', '24H_fluctate_rate': '-1.93'}, 'XEM': {'opening_price': '51.8', 'closing_price': '44.3', 'min_price': '43.3', 'max_price': '52.7', 'average_price': '47.0773', 'units_traded': '9677011.15258915', 'volume_1day': '9677011.15258915', 'volume_7day': '16048746.63465215', 'buy_price': '44.3', 'sell_price': '44.5', '24H_fluctate': '-7.5', '24H_fluctate_rate': '-14.47'}, 'SNT': {'opening_price': '21.1', 'closing_price': '20.1', 'min_price': '19.9', 'max_price': '21.4', 'average_price': '20.6162', 'units_traded': '10917645.90843871', 'volume_1day': '10917645.90843871', 'volume_7day': '135475810.868061283529326287', 'buy_price': '20', 'sell_price': '20.1', '24H_fluctate': '-1', '24H_fluctate_rate': '-4.73'}, 'ADA': {'opening_price': '43.6', 'closing_price': '42.3', 'min_price': '41.3', 'max_price': '44.5', 'average_price': '42.6851', 'units_traded': '10630468.64965316', 'volume_1day': '10630468.64965316', 'volume_7day': '63526693.89012452', 'buy_price': '42', 'sell_price': '42.3', '24H_fluctate': '-1.3', '24H_fluctate_rate': '-2.98'}, 'PPT': {'opening_price': '1336', 'closing_price': '1304', 'min_price': '1237', 'max_price': '1376', 'average_price': '1316.4195', 'units_traded': '16963.4668', 'volume_1day': '16963.4668', 'volume_7day': '396277.46499912', 'buy_price': '1279', 'sell_price': '1303', '24H_fluctate': '-32', '24H_fluctate_rate': '-2.39'}, 'CTXC': {'opening_price': '110', 'closing_price': '106', 'min_price': '104', 'max_price': '113', 'average_price': '107.35', 'units_traded': '413652.30598182', 'volume_1day': '413652.30598182', 'volume_7day': '4548265.635746266520445417', 'buy_price': '106', 'sell_price': '107', '24H_fluctate': '-4', '24H_fluctate_rate': '-3.63'}, 'CMT': {'opening_price': '25.7', 'closing_price': '24', 'min_price': '23.8', 'max_price': '26.2', 'average_price': '24.8222', 'units_traded': '4897180.4565', 'volume_1day': '4897180.4565', 'volume_7day': '40225542.133516445646786051', 'buy_price': '23.9', 'sell_price': '24.6', '24H_fluctate': '-1.7', '24H_fluctate_rate': '-6.61'}, 'THETA': {'opening_price': '59', 'closing_price': '58.5', 'min_price': '55', 'max_price': '59.5', 'average_price': '57.426', 'units_traded': '1989322.39478106', 'volume_1day': '1989322.39478106', 'volume_7day': '132822304.541905540820953744', 'buy_price': '58.4', 'sell_price': '58.5', '24H_fluctate': '-0.5', '24H_fluctate_rate': '-0.84'}, 'WTC': {'opening_price': '1096', 'closing_price': '1016', 'min_price': '1011', 'max_price': '1111', 'average_price': '1059.6511', 'units_traded': '20001.57930117', 'volume_1day': '20001.57930117', 'volume_7day': '381516.549080627351486348', 'buy_price': '1011', 'sell_price': '1022', '24H_fluctate': '-80', '24H_fluctate_rate': '-7.29'}, 'ITC': {'opening_price': '109', 'closing_price': '108', 'min_price': '100', 'max_price': '112', 'average_price': '106.5097', 'units_traded': '842356.3872', 'volume_1day': '842356.3872', 'volume_7day': '3002457.738936443705200616', 'buy_price': '105', 'sell_price': '108', '24H_fluctate': '-1', '24H_fluctate_rate': '-0.91'}, 'TRUE': {'opening_price': '238', 'closing_price': '233', 'min_price': '228', 'max_price': '243', 'average_price': '236.1007', 'units_traded': '150587.08493133', 'volume_1day': '150587.08493133', 'volume_7day': '1400628.0446601885778453', 'buy_price': '233', 'sell_price': '235', '24H_fluctate': '-5', '24H_fluctate_rate': '-2.10'}, 'ABT': {'opening_price': '73.3', 'closing_price': '73.5', 'min_price': '70.3', 'max_price': '75.2', 'average_price': '72.9271', 'units_traded': '512942.55013478', 'volume_1day': '512942.55013478', 'volume_7day': '4251414.664436262805120157', 'buy_price': '72.2', 'sell_price': '73.5', '24H_fluctate': '0.2', '24H_fluctate_rate': '0.27'}, 'RNT': {'opening_price': '74', 'closing_price': '75.4', 'min_price': '73.3', 'max_price': '78', 'average_price': '75.6332', 'units_traded': '7321219.7942475', 'volume_1day': '7321219.7942475', 'volume_7day': '33567660.471131102464772011', 'buy_price': '74.4', 'sell_price': '75.2', '24H_fluctate': '1.4', '24H_fluctate_rate': '1.89'}, 'PLY': {'opening_price': '29.9', 'closing_price': '29.1', 'min_price': '29.1', 'max_price': '31.7', 'average_price': '30.1322', 'units_traded': '2117584.02219544', 'volume_1day': '2117584.02219544', 'volume_7day': '27117286.933792657', 'buy_price': '29.1', 'sell_price': '29.2', '24H_fluctate': '-0.8', '24H_fluctate_rate': '-2.67'}, 'WAVES': {'opening_price': '3159', 'closing_price': '3034', 'min_price': '3034', 'max_price': '3200', 'average_price': '3118.2688', 'units_traded': '121436.90250963', 'volume_1day': '121436.90250963', 'volume_7day': '2039210.33348622', 'buy_price': '3030', 'sell_price': '3034', '24H_fluctate': '-125', '24H_fluctate_rate': '-3.95'}, 'LINK': {'opening_price': '472', 'closing_price': '424', 'min_price': '419', 'max_price': '483', 'average_price': '449.7557', 'units_traded': '1105933.15536293', 'volume_1day': '1105933.15536293', 'volume_7day': '8461847.511996991284564118', 'buy_price': '424', 'sell_price': '427', '24H_fluctate': '-48', '24H_fluctate_rate': '-10.16'}, 'ENJ': {'opening_price': '34.7', 'closing_price': '31.6', 'min_price': '31.1', 'max_price': '34.8', 'average_price': '33.3478', 'units_traded': '500443.46877619', 'volume_1day': '500443.46877619', 'volume_7day': '6060172.11554100697866171', 'buy_price': '31.6', 'sell_price': '31.8', '24H_fluctate': '-3.1', '24H_fluctate_rate': '-8.93'}, 'PST': {'opening_price': '97.5', 'closing_price': '96', 'min_price': '94.2', 'max_price': '98.9', 'average_price': '96.4288', 'units_traded': '353576.5709', 'volume_1day': '353576.5709', 'volume_7day': '6641221.379533428958375469', 'buy_price': '95', 'sell_price': '96', '24H_fluctate': '-1.5', '24H_fluctate_rate': '-1.53'}, 'SALT': {'opening_price': '235', 'closing_price': '228', 'min_price': '225', 'max_price': '238', 'average_price': '230.8013', 'units_traded': '304564.2852', 'volume_1day': '304564.2852', 'volume_7day': '2768055.74653406', 'buy_price': '227', 'sell_price': '229', '24H_fluctate': '-7', '24H_fluctate_rate': '-2.97'}, 'RDN': {'opening_price': '231', 'closing_price': '219', 'min_price': '219', 'max_price': '234', 'average_price': '225.9585', 'units_traded': '187170.09487436', 'volume_1day': '187170.09487436', 'volume_7day': '2150029.52971695166838751', 'buy_price': '219', 'sell_price': '223', '24H_fluctate': '-12', '24H_fluctate_rate': '-5.19'}, 'LOOM': {'opening_price': '45.8', 'closing_price': '42.7', 'min_price': '41.5', 'max_price': '53.8', 'average_price': '46.4293', 'units_traded': '6359380.043823', 'volume_1day': '6359380.043823', 'volume_7day': '10659046.222925903058940009', 'buy_price': '41.9', 'sell_price': '42.7', '24H_fluctate': '-3.1', '24H_fluctate_rate': '-6.76'}, 'BHPC': {'opening_price': '751', 'closing_price': '765', 'min_price': '744', 'max_price': '798', 'average_price': '768.0463', 'units_traded': '209697.24002656', 'volume_1day': '209697.24002656', 'volume_7day': '1180446.781954587992868854', 'buy_price': '765', 'sell_price': '770', '24H_fluctate': '14', '24H_fluctate_rate': '1.86'}, 'PIVX': {'opening_price': '756', 'closing_price': '700', 'min_price': '700', 'max_price': '774', 'average_price': '734.835', 'units_traded': '89265.5461', 'volume_1day': '89265.5461', 'volume_7day': '1355377.00524957', 'buy_price': '700', 'sell_price': '709', '24H_fluctate': '-56', '24H_fluctate_rate': '-7.40'}, 'INS': {'opening_price': '299', 'closing_price': '295', 'min_price': '287', 'max_price': '320', 'average_price': '302.2428', 'units_traded': '713591.09638078', 'volume_1day': '713591.09638078', 'volume_7day': '2691256.1033924064', 'buy_price': '295', 'sell_price': '298', '24H_fluctate': '-4', '24H_fluctate_rate': '-1.33'}, 'BCD': {'opening_price': '795', 'closing_price': '768', 'min_price': '759', 'max_price': '805', 'average_price': '780.8327', 'units_traded': '105568.09308322', 'volume_1day': '105568.09308322', 'volume_7day': '323998.93853929', 'buy_price': '760', 'sell_price': '773', '24H_fluctate': '-27', '24H_fluctate_rate': '-3.39'}, 'BZNT': {'opening_price': '27.9', 'closing_price': '27.1', 'min_price': '26.8', 'max_price': '28', 'average_price': '27.2923', 'units_traded': '5381399.90005775', 'volume_1day': '5381399.90005775', 'volume_7day': '44615781.820223398668270018', 'buy_price': '27.1', 'sell_price': '27.2', '24H_fluctate': '-0.8', '24H_fluctate_rate': '-2.86'}, 'XLM': {'opening_price': '93.9', 'closing_price': '89.8', 'min_price': '89.4', 'max_price': '97.2', 'average_price': '92.3918', 'units_traded': '14155911.19615162', 'volume_1day': '14155911.19615162', 'volume_7day': '108516455.27612799', 'buy_price': '89.8', 'sell_price': '90.4', '24H_fluctate': '-4.1', '24H_fluctate_rate': '-4.36'}, 'OCN': {'opening_price': '2.38', 'closing_price': '2.3', 'min_price': '2.25', 'max_price': '2.43', 'average_price': '2.3305', 'units_traded': '73420475.42797691', 'volume_1day': '73420475.42797691', 'volume_7day': '435564807.133633625555708168', 'buy_price': '2.3', 'sell_price': '2.31', '24H_fluctate': '-0.08', '24H_fluctate_rate': '-3.36'}, 'BSV': {'opening_price': '72550', 'closing_price': '69900', 'min_price': '68600', 'max_price': '74050', 'average_price': '71105.6108', 'units_traded': '13935.47641293', 'volume_1day': '13935.47641293', 'volume_7day': '99771.90979856', 'buy_price': '69800', 'sell_price': '69950', '24H_fluctate': '-2650', '24H_fluctate_rate': '-3.65'}, 'TMTG': {'opening_price': '3.89', 'closing_price': '3.6', 'min_price': '3.56', 'max_price': '3.99', 'average_price': '3.75', 'units_traded': '245379505.64086277', 'volume_1day': '245379505.64086277', 'volume_7day': '1803415577.994785884770682992', 'buy_price': '3.59', 'sell_price': '3.61', '24H_fluctate': '-0.29', '24H_fluctate_rate': '-7.45'}, 'BAT': {'opening_price': '128', 'closing_price': '124', 'min_price': '120', 'max_price': '129', 'average_price': '124.4673', 'units_traded': '143284.81099449', 'volume_1day': '143284.81099449', 'volume_7day': '1798887.850782289078471912', 'buy_price': '123', 'sell_price': '126', '24H_fluctate': '-4', '24H_fluctate_rate': '-3.12'}, 'WET': {'opening_price': '11.5', 'closing_price': '11.2', 'min_price': '11', 'max_price': '11.7', 'average_price': '11.3071', 'units_traded': '12845066.13004483', 'volume_1day': '12845066.13004483', 'volume_7day': '129380849.40470510692801244', 'buy_price': '11.1', 'sell_price': '11.2', '24H_fluctate': '-0.3', '24H_fluctate_rate': '-2.60'}, 'XVG': {'opening_price': '6.85', 'closing_price': '6.44', 'min_price': '6.43', 'max_price': '6.89', 'average_price': '6.6182', 'units_traded': '5411471.1846933', 'volume_1day': '5411471.1846933', 'volume_7day': '51144300.19378393', 'buy_price': '6.44', 'sell_price': '6.5', '24H_fluctate': '-0.41', '24H_fluctate_rate': '-5.98'}, 'IOST': {'opening_price': '6.37', 'closing_price': '6.19', 'min_price': '6.03', 'max_price': '6.52', 'average_price': '6.2337', 'units_traded': '17310597.00924066', 'volume_1day': '17310597.00924066', 'volume_7day': '146441616.769473658339267837', 'buy_price': '6.16', 'sell_price': '6.19', '24H_fluctate': '-0.18', '24H_fluctate_rate': '-2.82'}, 'POLY': {'opening_price': '115', 'closing_price': '104', 'min_price': '102', 'max_price': '117', 'average_price': '108.5464', 'units_traded': '1207534.04328103', 'volume_1day': '1207534.04328103', 'volume_7day': '6375284.291757017554546869', 'buy_price': '104', 'sell_price': '105', '24H_fluctate': '-11', '24H_fluctate_rate': '-9.56'}, 'HC': {'opening_price': '1054', 'closing_price': '974', 'min_price': '957', 'max_price': '1055', 'average_price': '999.9204', 'units_traded': '167318.31353808', 'volume_1day': '167318.31353808', 'volume_7day': '885540.02746411', 'buy_price': '973', 'sell_price': '975', '24H_fluctate': '-80', '24H_fluctate_rate': '-7.59'}, 'MEETONE': [], 'ADD': [], 'HORUS': [], 'CHL': [], 'EOSDAC': [], 'BLACK': [], 'ROM': {'opening_price': '0.09', 'closing_price': '0.09', 'min_price': '0.08', 'max_price': '0.09', 'average_price': '0.0869', 'units_traded': '1299092867.93353333', 'volume_1day': '1299092867.93353333', 'volume_7day': '11476110426.59140444433333332', 'buy_price': '0.08', 'sell_price': '0.09', '24H_fluctate': '0', '24H_fluctate_rate': '0.00'}, 'AMO': {'opening_price': '0.67', 'closing_price': '0.64', 'min_price': '0.64', 'max_price': '0.68', 'average_price': '0.656', 'units_traded': '240598003.64270246', 'volume_1day': '240598003.64270246', 'volume_7day': '1828546661.842017912176078777', 'buy_price': '0.64', 'sell_price': '0.65', '24H_fluctate': '-0.03', '24H_fluctate_rate': '-4.47'}, 'ETZ': {'opening_price': '119', 'closing_price': '109', 'min_price': '107', 'max_price': '123', 'average_price': '114.57', 'units_traded': '3123514.22456063', 'volume_1day': '3123514.22456063', 'volume_7day': '25915972.851599930020706461', 'buy_price': '109', 'sell_price': '112', '24H_fluctate': '-10', '24H_fluctate_rate': '-8.40'}, 'ARN': {'opening_price': '305', 'closing_price': '292', 'min_price': '286', 'max_price': '333', 'average_price': '310.5192', 'units_traded': '2508480.09846957', 'volume_1day': '2508480.09846957', 'volume_7day': '4051594.67605627', 'buy_price': '292', 'sell_price': '293', '24H_fluctate': '-13', '24H_fluctate_rate': '-4.26'}, 'APIS': {'opening_price': '2.07', 'closing_price': '2.03', 'min_price': '1.92', 'max_price': '2.19', 'average_price': '2.0707', 'units_traded': '142839776.19596475', 'volume_1day': '142839776.19596475', 'volume_7day': '14739973301.116598832587423285', 'buy_price': '1.98', 'sell_price': '2.03', '24H_fluctate': '-0.04', '24H_fluctate_rate': '-1.93'}, 'MTL': {'opening_price': '277', 'closing_price': '274', 'min_price': '265', 'max_price': '319', 'average_price': '287.7998', 'units_traded': '3854021.90358664', 'volume_1day': '3854021.90358664', 'volume_7day': '6109157.1491798', 'buy_price': '274', 'sell_price': '275', '24H_fluctate': '-3', '24H_fluctate_rate': '-1.08'}, 'DACC': {'opening_price': '0.2', 'closing_price': '0.11', 'min_price': '0.11', 'max_price': '0.22', 'average_price': '0.1388', 'units_traded': '88840940026.4768812', 'volume_1day': '88840940026.4768812', 'volume_7day': '88716317797.4532812', 'buy_price': '0.11', 'sell_price': '0.12', '24H_fluctate': '-0.09', '24H_fluctate_rate': '-45.00'}, 'DAC': {'opening_price': '7.8', 'closing_price': '8.11', 'min_price': '7.08', 'max_price': '8.48', 'average_price': '7.5579', 'units_traded': '4708233241.10411446', 'volume_1day': '4708233241.10411446', 'volume_7day': '4706001323.873167403443640265', 'buy_price': '8.11', 'sell_price': '8.16', '24H_fluctate': '0.31', '24H_fluctate_rate': '3.97'}, 'date': '1548979913887'}\n"
     ]
    }
   ],
   "source": [
    "currency = requests.get('https://api.bithumb.com/public/ticker/all').json()['data']\n",
    "print(currency)"
   ]
  },
  {
   "cell_type": "code",
   "execution_count": null,
   "metadata": {},
   "outputs": [],
   "source": [
    "# 아래에 코드를 작성하세요."
   ]
  }
 ],
 "metadata": {
  "kernelspec": {
   "display_name": "Python 3",
   "language": "python",
   "name": "python3"
  },
  "language_info": {
   "codemirror_mode": {
    "name": "ipython",
    "version": 3
   },
   "file_extension": ".py",
   "mimetype": "text/x-python",
   "name": "python",
   "nbconvert_exporter": "python",
   "pygments_lexer": "ipython3",
   "version": "3.7.1"
  },
  "toc": {
   "base_numbering": 1,
   "nav_menu": {},
   "number_sections": true,
   "sideBar": true,
   "skip_h1_title": false,
   "title_cell": "Table of Contents",
   "title_sidebar": "Contents",
   "toc_cell": false,
   "toc_position": {},
   "toc_section_display": true,
   "toc_window_display": false
  }
 },
 "nbformat": 4,
 "nbformat_minor": 2
}
