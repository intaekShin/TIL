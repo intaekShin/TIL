{
 "cells": [
  {
   "cell_type": "markdown",
   "metadata": {},
   "source": [
    "# Collatz 추측\n",
    "\n",
    "> 1937년 Collatz란 사람에 의해 제기된 이 추측은, 주어진 수가 1이 될때까지 다음 작업을 반복하면, 모든 수를 1로 만들 수 있다는 추측입니다. 작업은 다음과 같습니다.\n",
    ">\n",
    "> 1. 입력된 수가 짝수라면 2로 나눕니다. \n",
    "> 2. 입력된 수가 홀수라면 3을 곱하고 1을 더합니다.\n",
    "> 3. 결과로 나온 수에 같은 작업을 1이 될 때까지 반복합니다.\n",
    ">\n",
    "> 예를 들어, 입력된 수가 6이라면 6→3→10→5→16→8→4→2→1 이 되어 총 8번 만에 1이 됩니다.\n",
    ">\n",
    "> 위 작업을 몇 번이나 반복해야하는지 반환하는 함수, collatz를 완성해 주세요.\n",
    ">\n",
    "> 단, 작업을 500번을 반복해도 1이 되지 않는다면 –1을 반환해 주세요.\n",
    "\n",
    "예시)\n",
    "\n",
    "```python\n",
    "collatz(6) #=> 8\n",
    "collatz(16) #=> 4\n",
    "collatz(626331) #=> -1\n",
    "```"
   ]
  },
  {
   "cell_type": "code",
   "execution_count": 32,
   "metadata": {},
   "outputs": [
    {
     "data": {
      "text/plain": [
       "'#for 문\\ndef collatz(num):\\n    for i in range(500):\\n        num = num / 2 if num % 2 == 0 else num * 3 + 1\\n        if num == 1:\\n            return i + 1\\n    return -1\\n    \\n'"
      ]
     },
     "execution_count": 32,
     "metadata": {},
     "output_type": "execute_result"
    }
   ],
   "source": [
    "# 여기에 코드를 작성하세요.\n",
    "\"\"\"\n",
    "def collatz(num):\n",
    "    a = list()\n",
    "    a.append(num)\n",
    "    for i in a:\n",
    "        if len(a) == 499:\n",
    "            return -1        \n",
    "        elif num == 1:\n",
    "            return len(a)-1\n",
    "        elif num%2 == 0:\n",
    "            num = num / 2\n",
    "            a.append(num)\n",
    "        else:\n",
    "            num = (num* 3) + 1\n",
    "            a.append(num)\n",
    "            #내가 직접 작성한 정답.\n",
    "\"\"\"\n",
    "#while\n",
    "def collatz(num):\n",
    "    count = 0\n",
    "    while count < 500:\n",
    "        if num % 2 == 1:\n",
    "            num = num * 3 + 1\n",
    "            count += 1\n",
    "        else:\n",
    "            num = num / 2        #위 if 구문 두개의 논리를 핵심적으로 사용합니다.\n",
    "            count += 1\n",
    "        if num == 1:\n",
    "            return count #break를 써도 무관. 대신 마지막 줄 -1을 count로 편집.\n",
    "    if count == 500:\n",
    "        count = -1\n",
    "#    result = count if count < 500 else -1\n",
    "    return -1\n",
    "\n",
    "\"\"\"#for 문\n",
    "def collatz(num):\n",
    "    for i in range(500):\n",
    "        num = num / 2 if num % 2 == 0 else num * 3 + 1\n",
    "        if num == 1:\n",
    "            return i + 1\n",
    "    return -1\n",
    "    \n",
    "\"\"\"\n",
    " "
   ]
  },
  {
   "cell_type": "code",
   "execution_count": 33,
   "metadata": {},
   "outputs": [
    {
     "name": "stdout",
     "output_type": "stream",
     "text": [
      "8\n",
      "4\n",
      "-1\n"
     ]
    }
   ],
   "source": [
    "# 해당 코드를 통해 올바른 결과가 나오는지 확인하세요.\n",
    "print(collatz(6))\n",
    "print(collatz(16))\n",
    "print(collatz(626331))"
   ]
  },
  {
   "cell_type": "markdown",
   "metadata": {},
   "source": [
    "# 솔로 천국 만들기\n",
    "\n",
    "> 리스트가 주어집니다. 리스트의 각 요소는 숫자 0부터 9까지로 이루어져 있습니다. \n",
    ">\n",
    "> 이때, 리스트에서 연속적으로 나타나는 숫자는 하나만 남기고 전부 제거하려고 합니다. \n",
    ">\n",
    "> 리스트에서 연속적으로 나타나는 숫자는 제거하고 남은 수들을 반환하는 lonely 함수를 작성해 주세요.\n",
    ">\n",
    "> 단, 제거된 후 남은 수들을 반환할 때는 리스트의 요소들의 순서를 유지해야 합니다.  \n",
    "\n",
    "예시)\n",
    "\n",
    "```python\n",
    "lonely([1, 1, 3, 3, 0, 1, 1]) #=> [1, 3, 0, 1]\n",
    "lonely([4, 4, 4, 3, 3]) #=> [4,3]\n",
    "```\n"
   ]
  },
  {
   "cell_type": "code",
   "execution_count": 29,
   "metadata": {},
   "outputs": [],
   "source": [
    "# 여기에 코드를 작성하세요.\n",
    "# index를 통해 값을 제거하면 코드가 복잡해진다. 새로운 리스트를 만들 때는 원하는 조건에 맞는 리스트를 생성하는 편이 간결하다.\n",
    "def lonely(numbers):\n",
    "    result = [] #조건문에서 빈 리스트는 False로 해석!!!!!\n",
    "    for n in numbers:\n",
    "        # ☆★☆★☆★☆★ True or Error의 경우가 생길 수 있는데, 단축 평가로 인한 Error 회피!!!! ★☆★☆★☆★☆★\n",
    "        print(result)   #확인용 코드.\n",
    "        if not result or result[-1] != n: #\n",
    "            result.append(n)\n",
    "    return result\n",
    "    "
   ]
  },
  {
   "cell_type": "code",
   "execution_count": 30,
   "metadata": {},
   "outputs": [
    {
     "name": "stdout",
     "output_type": "stream",
     "text": [
      "[]\n",
      "[1]\n",
      "[1]\n",
      "[1, 3]\n",
      "[1, 3]\n",
      "[1, 3, 0]\n",
      "[1, 3, 0, 1]\n",
      "[1, 3, 0, 1]\n",
      "[]\n",
      "[4]\n",
      "[4]\n",
      "[4]\n",
      "[4, 3]\n",
      "[4, 3]\n"
     ]
    }
   ],
   "source": [
    "# 해당 코드를 통해 올바른 결과가 나오는지 확인하세요.\n",
    "print(lonely([1, 1, 3, 3, 0, 1, 1])) #=> [1, 3, 0, 1]\n",
    "print(lonely([4, 4, 4, 3, 3])) #=> [4,3]"
   ]
  }
 ],
 "metadata": {
  "kernelspec": {
   "display_name": "Python 3",
   "language": "python",
   "name": "python3"
  },
  "language_info": {
   "codemirror_mode": {
    "name": "ipython",
    "version": 3
   },
   "file_extension": ".py",
   "mimetype": "text/x-python",
   "name": "python",
   "nbconvert_exporter": "python",
   "pygments_lexer": "ipython3",
   "version": "3.7.1"
  },
  "toc": {
   "base_numbering": 1,
   "nav_menu": {},
   "number_sections": true,
   "sideBar": true,
   "skip_h1_title": false,
   "title_cell": "Table of Contents",
   "title_sidebar": "Contents",
   "toc_cell": false,
   "toc_position": {},
   "toc_section_display": true,
   "toc_window_display": false
  }
 },
 "nbformat": 4,
 "nbformat_minor": 2
}
